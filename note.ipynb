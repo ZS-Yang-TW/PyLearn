{
 "cells": [
  {
   "cell_type": "markdown",
   "metadata": {},
   "source": [
    "## 資料模型\n",
    "【 Course 】\n",
    "- name\n",
    "- description\n",
    "- price\n",
    "- discount\n",
    "- active\n",
    "- data\n",
    "- thumbnail\n",
    "- resource\n",
    "- course_length"
   ]
  },
  {
   "cell_type": "markdown",
   "metadata": {},
   "source": [
    "【User】\n",
    "- mail\n",
    "- password\n",
    "- first_name\n",
    "- last_name"
   ]
  },
  {
   "cell_type": "markdown",
   "metadata": {},
   "source": [
    "【Videos】\n",
    "- course_id\n",
    "- serial_number\n",
    "- url\n",
    "- isPreview\n",
    "- title"
   ]
  },
  {
   "cell_type": "markdown",
   "metadata": {},
   "source": [
    "【Payments】\n",
    "- payment_id\n",
    "- request_id\n",
    "- status\n",
    "- usercourse\n",
    "- data"
   ]
  },
  {
   "cell_type": "markdown",
   "metadata": {},
   "source": [
    "【Tags】\n",
    "- tag\n",
    "- course"
   ]
  },
  {
   "cell_type": "markdown",
   "metadata": {},
   "source": [
    "【Prerequisites】\n",
    "- prerequisite\n",
    "- course"
   ]
  },
  {
   "cell_type": "markdown",
   "metadata": {},
   "source": [
    "【Learnings】\n",
    "- course\n",
    "- learning"
   ]
  }
 ],
 "metadata": {
  "language_info": {
   "name": "python"
  }
 },
 "nbformat": 4,
 "nbformat_minor": 2
}
